{
 "cells": [
  {
   "cell_type": "code",
   "execution_count": 1,
   "id": "cfc5ab76",
   "metadata": {},
   "outputs": [
    {
     "name": "stdout",
     "output_type": "stream",
     "text": [
      "[(2, 1), (1, 2), (2, 3), (4, 4), (2, 5)]\n"
     ]
    }
   ],
   "source": [
    "#Write a Python program to get a list, sorted in increasing order by the last element in each tuple from a given \n",
    "#list of non-empty tuples\n",
    "#Sample List : [(2, 5), (1, 2), (4, 4), (2, 3), (2, 1)]\n",
    "\n",
    "def get_last_element(tuple_elem):\n",
    "    return tuple_elem[-1]\n",
    "\n",
    "def sort_tuples_by_last_element(tuple_list):\n",
    "    return sorted(tuple_list, key=get_last_element)\n",
    "sample_list = [(2, 5), (1, 2), (4, 4), (2, 3), (2, 1)]\n",
    "sorted_list = sort_tuples_by_last_element(sample_list)\n",
    "print(sorted_list)"
   ]
  }
 ],
 "metadata": {
  "kernelspec": {
   "display_name": "Python 3 (ipykernel)",
   "language": "python",
   "name": "python3"
  },
  "language_info": {
   "codemirror_mode": {
    "name": "ipython",
    "version": 3
   },
   "file_extension": ".py",
   "mimetype": "text/x-python",
   "name": "python",
   "nbconvert_exporter": "python",
   "pygments_lexer": "ipython3",
   "version": "3.11.3"
  }
 },
 "nbformat": 4,
 "nbformat_minor": 5
}
